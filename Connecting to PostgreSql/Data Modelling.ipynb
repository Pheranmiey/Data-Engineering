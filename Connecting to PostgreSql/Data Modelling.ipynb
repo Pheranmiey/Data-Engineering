{
 "cells": [
  {
   "cell_type": "code",
   "execution_count": 233,
   "id": "6b243b60",
   "metadata": {},
   "outputs": [
    {
     "name": "stdout",
     "output_type": "stream",
     "text": [
      "Requirement already satisfied: psycopg2 in c:\\users\\hp\\anaconda3\\lib\\site-packages (2.9.9)Note: you may need to restart the kernel to use updated packages.\n",
      "\n"
     ]
    }
   ],
   "source": [
    "pip install psycopg2"
   ]
  },
  {
   "cell_type": "code",
   "execution_count": 234,
   "id": "5f4430c0",
   "metadata": {},
   "outputs": [],
   "source": [
    "import psycopg2\n",
    "import pandas as pd"
   ]
  },
  {
   "cell_type": "code",
   "execution_count": 235,
   "id": "779b601f",
   "metadata": {},
   "outputs": [],
   "source": [
    "# def create_database():\n",
    "#     # Connect to the default database\n",
    "#     conn = psycopg2.connect('host=127.0.0.1 dbname=postgres user=postgres password=feranmi')\n",
    "#     conn.set_session(autocommit=True)\n",
    "#     cur = conn.cursor()\n",
    "    \n",
    "#     # Drop the 'accounts' database if it exists and create a new one\n",
    "#     cur.execute('DROP DATABASE IF EXISTS accounts')\n",
    "#     cur.execute('CREATE DATABASE accounts')\n",
    "#     conn.close()\n",
    "    \n",
    "#     # Connect to the 'accounts' database\n",
    "#     conn = psycopg2.connect('host=127.0.0.1 dbname=accounts user=postgres password=feranmi')\n",
    "#     cur = conn.cursor()  # Ensure parentheses are used here\n",
    "#     return cur, conn"
   ]
  },
  {
   "cell_type": "code",
   "execution_count": 236,
   "id": "1162d2f3",
   "metadata": {},
   "outputs": [],
   "source": [
    "def create_database():\n",
    "    conn = psycopg2.connect('host = localhost dbname = postgres user = postgres password=feranmi')\n",
    "    conn.set_session(autocommit=True)\n",
    "    cur = conn.cursor()\n",
    "    \n",
    "    cur.execute(\"\"\"\n",
    "    SELECT pg_terminate_backend(pg_stat_activity.pid)\n",
    "    FROM pg_stat_activity\n",
    "    WHERE pg_stat_activity.datname = 'accounts'\n",
    "    AND pid <> pg_backend_pid();\n",
    "    \"\"\")\n",
    "    \n",
    "    cur.execute('DROP DATABASE IF EXISTS accounts')\n",
    "    cur.execute('CREATE DATABASE accounts')\n",
    "    conn.close()\n",
    "    \n",
    "    conn = psycopg2.connect('host = 127.0.0.1 dbname = postgres user = postgres password=feranmi')\n",
    "    cur = conn.cursor()\n",
    "    return cur, conn\n",
    "    "
   ]
  },
  {
   "cell_type": "code",
   "execution_count": 237,
   "id": "dfe577cf",
   "metadata": {},
   "outputs": [],
   "source": [
    "def drop_tables(curr,conn):\n",
    "    for query in drop_table_queries:\n",
    "        cur.execute(query)\n",
    "        conn.commit()"
   ]
  },
  {
   "cell_type": "code",
   "execution_count": 238,
   "id": "bc494b5b",
   "metadata": {},
   "outputs": [],
   "source": [
    "def drop_table(curr,conn):\n",
    "    for query in create_table_queries:\n",
    "        cur.execute(query)\n",
    "        conn.commit()"
   ]
  },
  {
   "cell_type": "code",
   "execution_count": 239,
   "id": "583a0e14",
   "metadata": {},
   "outputs": [],
   "source": [
    "country_df = pd.read_csv('Wealth-AccountsCountry.csv')"
   ]
  },
  {
   "cell_type": "code",
   "execution_count": 240,
   "id": "6f26ccd1",
   "metadata": {},
   "outputs": [
    {
     "data": {
      "text/html": [
       "<div>\n",
       "<style scoped>\n",
       "    .dataframe tbody tr th:only-of-type {\n",
       "        vertical-align: middle;\n",
       "    }\n",
       "\n",
       "    .dataframe tbody tr th {\n",
       "        vertical-align: top;\n",
       "    }\n",
       "\n",
       "    .dataframe thead th {\n",
       "        text-align: right;\n",
       "    }\n",
       "</style>\n",
       "<table border=\"1\" class=\"dataframe\">\n",
       "  <thead>\n",
       "    <tr style=\"text-align: right;\">\n",
       "      <th></th>\n",
       "      <th>Code</th>\n",
       "      <th>Long Name</th>\n",
       "      <th>Income Group</th>\n",
       "      <th>Region</th>\n",
       "      <th>Lending category</th>\n",
       "      <th>Other groups</th>\n",
       "      <th>Currency Unit</th>\n",
       "      <th>Latest population census</th>\n",
       "      <th>Latest household survey</th>\n",
       "      <th>Special Notes</th>\n",
       "      <th>...</th>\n",
       "      <th>Source of most recent Income and expenditure data</th>\n",
       "      <th>Vital registration complete</th>\n",
       "      <th>Latest agricultural census</th>\n",
       "      <th>Latest industrial data</th>\n",
       "      <th>Latest trade data</th>\n",
       "      <th>Latest water withdrawal data</th>\n",
       "      <th>2-alpha code</th>\n",
       "      <th>WB-2 code</th>\n",
       "      <th>Table Name</th>\n",
       "      <th>Short Name</th>\n",
       "    </tr>\n",
       "  </thead>\n",
       "  <tbody>\n",
       "    <tr>\n",
       "      <th>0</th>\n",
       "      <td>ALB</td>\n",
       "      <td>Republic of Albania</td>\n",
       "      <td>Upper middle income</td>\n",
       "      <td>Europe &amp; Central Asia</td>\n",
       "      <td>IBRD</td>\n",
       "      <td>NaN</td>\n",
       "      <td>Albanian lek</td>\n",
       "      <td>2020 (expected)</td>\n",
       "      <td>Demographic and Health Survey, 2017/18</td>\n",
       "      <td>NaN</td>\n",
       "      <td>...</td>\n",
       "      <td>Living Standards Measurement Study Survey (LSM...</td>\n",
       "      <td>Yes</td>\n",
       "      <td>2012</td>\n",
       "      <td>2013.0</td>\n",
       "      <td>2018.0</td>\n",
       "      <td>2006.0</td>\n",
       "      <td>AL</td>\n",
       "      <td>AL</td>\n",
       "      <td>Albania</td>\n",
       "      <td>Albania</td>\n",
       "    </tr>\n",
       "    <tr>\n",
       "      <th>1</th>\n",
       "      <td>ARG</td>\n",
       "      <td>Argentine Republic</td>\n",
       "      <td>Upper middle income</td>\n",
       "      <td>Latin America &amp; Caribbean</td>\n",
       "      <td>IBRD</td>\n",
       "      <td>NaN</td>\n",
       "      <td>Argentine peso</td>\n",
       "      <td>2020 (expected)</td>\n",
       "      <td>Multiple Indicator Cluster Survey, 2019/20</td>\n",
       "      <td>NaN</td>\n",
       "      <td>...</td>\n",
       "      <td>Integrated household survey (IHS), 2016</td>\n",
       "      <td>Yes</td>\n",
       "      <td>2008</td>\n",
       "      <td>2002.0</td>\n",
       "      <td>2018.0</td>\n",
       "      <td>2011.0</td>\n",
       "      <td>AR</td>\n",
       "      <td>AR</td>\n",
       "      <td>Argentina</td>\n",
       "      <td>Argentina</td>\n",
       "    </tr>\n",
       "  </tbody>\n",
       "</table>\n",
       "<p>2 rows × 31 columns</p>\n",
       "</div>"
      ],
      "text/plain": [
       "  Code            Long Name         Income Group                     Region  \\\n",
       "0  ALB  Republic of Albania  Upper middle income      Europe & Central Asia   \n",
       "1  ARG   Argentine Republic  Upper middle income  Latin America & Caribbean   \n",
       "\n",
       "  Lending category Other groups   Currency Unit Latest population census  \\\n",
       "0             IBRD          NaN    Albanian lek          2020 (expected)   \n",
       "1             IBRD          NaN  Argentine peso          2020 (expected)   \n",
       "\n",
       "                      Latest household survey Special Notes  ...  \\\n",
       "0      Demographic and Health Survey, 2017/18           NaN  ...   \n",
       "1  Multiple Indicator Cluster Survey, 2019/20           NaN  ...   \n",
       "\n",
       "   Source of most recent Income and expenditure data  \\\n",
       "0  Living Standards Measurement Study Survey (LSM...   \n",
       "1            Integrated household survey (IHS), 2016   \n",
       "\n",
       "   Vital registration complete Latest agricultural census  \\\n",
       "0                          Yes                       2012   \n",
       "1                          Yes                       2008   \n",
       "\n",
       "  Latest industrial data Latest trade data Latest water withdrawal data  \\\n",
       "0                 2013.0            2018.0                       2006.0   \n",
       "1                 2002.0            2018.0                       2011.0   \n",
       "\n",
       "  2-alpha code WB-2 code Table Name Short Name  \n",
       "0           AL        AL    Albania    Albania  \n",
       "1           AR        AR  Argentina  Argentina  \n",
       "\n",
       "[2 rows x 31 columns]"
      ]
     },
     "execution_count": 240,
     "metadata": {},
     "output_type": "execute_result"
    }
   ],
   "source": [
    "country_df.head(2)"
   ]
  },
  {
   "cell_type": "code",
   "execution_count": 241,
   "id": "b55d9b67",
   "metadata": {},
   "outputs": [],
   "source": [
    "df1 = country_df[['Code','Short Name','Table Name','Long Name','Currency Unit']]"
   ]
  },
  {
   "cell_type": "code",
   "execution_count": 242,
   "id": "8a297c3d",
   "metadata": {},
   "outputs": [
    {
     "data": {
      "text/html": [
       "<div>\n",
       "<style scoped>\n",
       "    .dataframe tbody tr th:only-of-type {\n",
       "        vertical-align: middle;\n",
       "    }\n",
       "\n",
       "    .dataframe tbody tr th {\n",
       "        vertical-align: top;\n",
       "    }\n",
       "\n",
       "    .dataframe thead th {\n",
       "        text-align: right;\n",
       "    }\n",
       "</style>\n",
       "<table border=\"1\" class=\"dataframe\">\n",
       "  <thead>\n",
       "    <tr style=\"text-align: right;\">\n",
       "      <th></th>\n",
       "      <th>Code</th>\n",
       "      <th>Short Name</th>\n",
       "      <th>Table Name</th>\n",
       "      <th>Long Name</th>\n",
       "      <th>Currency Unit</th>\n",
       "    </tr>\n",
       "  </thead>\n",
       "  <tbody>\n",
       "    <tr>\n",
       "      <th>0</th>\n",
       "      <td>ALB</td>\n",
       "      <td>Albania</td>\n",
       "      <td>Albania</td>\n",
       "      <td>Republic of Albania</td>\n",
       "      <td>Albanian lek</td>\n",
       "    </tr>\n",
       "    <tr>\n",
       "      <th>1</th>\n",
       "      <td>ARG</td>\n",
       "      <td>Argentina</td>\n",
       "      <td>Argentina</td>\n",
       "      <td>Argentine Republic</td>\n",
       "      <td>Argentine peso</td>\n",
       "    </tr>\n",
       "    <tr>\n",
       "      <th>2</th>\n",
       "      <td>ARM</td>\n",
       "      <td>Armenia</td>\n",
       "      <td>Armenia</td>\n",
       "      <td>Republic of Armenia</td>\n",
       "      <td>Armenian dram</td>\n",
       "    </tr>\n",
       "  </tbody>\n",
       "</table>\n",
       "</div>"
      ],
      "text/plain": [
       "  Code Short Name Table Name            Long Name   Currency Unit\n",
       "0  ALB    Albania    Albania  Republic of Albania    Albanian lek\n",
       "1  ARG  Argentina  Argentina   Argentine Republic  Argentine peso\n",
       "2  ARM    Armenia    Armenia  Republic of Armenia   Armenian dram"
      ]
     },
     "execution_count": 242,
     "metadata": {},
     "output_type": "execute_result"
    }
   ],
   "source": [
    "df1.head(3)"
   ]
  },
  {
   "cell_type": "code",
   "execution_count": 243,
   "id": "abc23691",
   "metadata": {},
   "outputs": [],
   "source": [
    "accountsData= pd.read_csv('Wealth-AccountData.csv')"
   ]
  },
  {
   "cell_type": "code",
   "execution_count": 244,
   "id": "ee5ad1ea",
   "metadata": {},
   "outputs": [
    {
     "data": {
      "text/html": [
       "<div>\n",
       "<style scoped>\n",
       "    .dataframe tbody tr th:only-of-type {\n",
       "        vertical-align: middle;\n",
       "    }\n",
       "\n",
       "    .dataframe tbody tr th {\n",
       "        vertical-align: top;\n",
       "    }\n",
       "\n",
       "    .dataframe thead th {\n",
       "        text-align: right;\n",
       "    }\n",
       "</style>\n",
       "<table border=\"1\" class=\"dataframe\">\n",
       "  <thead>\n",
       "    <tr style=\"text-align: right;\">\n",
       "      <th></th>\n",
       "      <th>Country Name</th>\n",
       "      <th>Country Code</th>\n",
       "      <th>Series Name</th>\n",
       "      <th>Series Code</th>\n",
       "      <th>1995 [YR1995]</th>\n",
       "      <th>1996 [YR1996]</th>\n",
       "      <th>1997 [YR1997]</th>\n",
       "      <th>1998 [YR1998]</th>\n",
       "      <th>1999 [YR1999]</th>\n",
       "      <th>2000 [YR2000]</th>\n",
       "      <th>...</th>\n",
       "      <th>2009 [YR2009]</th>\n",
       "      <th>2010 [YR2010]</th>\n",
       "      <th>2011 [YR2011]</th>\n",
       "      <th>2012 [YR2012]</th>\n",
       "      <th>2013 [YR2013]</th>\n",
       "      <th>2014 [YR2014]</th>\n",
       "      <th>2015 [YR2015]</th>\n",
       "      <th>2016 [YR2016]</th>\n",
       "      <th>2017 [YR2017]</th>\n",
       "      <th>2018 [YR2018]</th>\n",
       "    </tr>\n",
       "  </thead>\n",
       "  <tbody>\n",
       "    <tr>\n",
       "      <th>0</th>\n",
       "      <td>Albania</td>\n",
       "      <td>ALB</td>\n",
       "      <td>Human capital (constant 2018 US$)</td>\n",
       "      <td>NW.HCA.TO</td>\n",
       "      <td>4.49E+10</td>\n",
       "      <td>4.34E+10</td>\n",
       "      <td>3.71E+10</td>\n",
       "      <td>3.88E+10</td>\n",
       "      <td>4.22E+10</td>\n",
       "      <td>4.36E+10</td>\n",
       "      <td>...</td>\n",
       "      <td>6.610000e+10</td>\n",
       "      <td>6.810000e+10</td>\n",
       "      <td>6.850000e+10</td>\n",
       "      <td>7.080000e+10</td>\n",
       "      <td>7.160000e+10</td>\n",
       "      <td>7.250000e+10</td>\n",
       "      <td>7.370000e+10</td>\n",
       "      <td>7.57E+10</td>\n",
       "      <td>7.80E+10</td>\n",
       "      <td>8.12E+10</td>\n",
       "    </tr>\n",
       "    <tr>\n",
       "      <th>1</th>\n",
       "      <td>Albania</td>\n",
       "      <td>ALB</td>\n",
       "      <td>Human capital per capita (constant 2018 US$)</td>\n",
       "      <td>NW.HCA.PC</td>\n",
       "      <td>14072.79</td>\n",
       "      <td>13708.99</td>\n",
       "      <td>11794.1</td>\n",
       "      <td>12399.48</td>\n",
       "      <td>13573.26</td>\n",
       "      <td>14118.13</td>\n",
       "      <td>...</td>\n",
       "      <td>2.258200e+04</td>\n",
       "      <td>2.336286e+04</td>\n",
       "      <td>2.359058e+04</td>\n",
       "      <td>2.439397e+04</td>\n",
       "      <td>2.473162e+04</td>\n",
       "      <td>2.509002e+04</td>\n",
       "      <td>2.559371e+04</td>\n",
       "      <td>26326.26</td>\n",
       "      <td>27160.86</td>\n",
       "      <td>28333.68</td>\n",
       "    </tr>\n",
       "    <tr>\n",
       "      <th>2</th>\n",
       "      <td>Albania</td>\n",
       "      <td>ALB</td>\n",
       "      <td>Human capital per capita, employed female (con...</td>\n",
       "      <td>NW.HCA.FEMP.PC</td>\n",
       "      <td>3468.858</td>\n",
       "      <td>3355.549</td>\n",
       "      <td>2868.997</td>\n",
       "      <td>3013.391</td>\n",
       "      <td>3259.893</td>\n",
       "      <td>3424.007</td>\n",
       "      <td>...</td>\n",
       "      <td>2.825336e+03</td>\n",
       "      <td>2.889150e+03</td>\n",
       "      <td>2.848523e+03</td>\n",
       "      <td>2.930234e+03</td>\n",
       "      <td>2.954273e+03</td>\n",
       "      <td>2.957420e+03</td>\n",
       "      <td>2.987545e+03</td>\n",
       "      <td>3072.504</td>\n",
       "      <td>3178.417</td>\n",
       "      <td>3312.927</td>\n",
       "    </tr>\n",
       "  </tbody>\n",
       "</table>\n",
       "<p>3 rows × 28 columns</p>\n",
       "</div>"
      ],
      "text/plain": [
       "  Country Name Country Code  \\\n",
       "0      Albania          ALB   \n",
       "1      Albania          ALB   \n",
       "2      Albania          ALB   \n",
       "\n",
       "                                         Series Name     Series Code  \\\n",
       "0                  Human capital (constant 2018 US$)       NW.HCA.TO   \n",
       "1       Human capital per capita (constant 2018 US$)       NW.HCA.PC   \n",
       "2  Human capital per capita, employed female (con...  NW.HCA.FEMP.PC   \n",
       "\n",
       "  1995 [YR1995] 1996 [YR1996] 1997 [YR1997] 1998 [YR1998] 1999 [YR1999]  \\\n",
       "0      4.49E+10      4.34E+10      3.71E+10      3.88E+10      4.22E+10   \n",
       "1      14072.79      13708.99       11794.1      12399.48      13573.26   \n",
       "2      3468.858      3355.549      2868.997      3013.391      3259.893   \n",
       "\n",
       "  2000 [YR2000]  ... 2009 [YR2009] 2010 [YR2010] 2011 [YR2011] 2012 [YR2012]  \\\n",
       "0      4.36E+10  ...  6.610000e+10  6.810000e+10  6.850000e+10  7.080000e+10   \n",
       "1      14118.13  ...  2.258200e+04  2.336286e+04  2.359058e+04  2.439397e+04   \n",
       "2      3424.007  ...  2.825336e+03  2.889150e+03  2.848523e+03  2.930234e+03   \n",
       "\n",
       "   2013 [YR2013]  2014 [YR2014]  2015 [YR2015]  2016 [YR2016]  2017 [YR2017]  \\\n",
       "0   7.160000e+10   7.250000e+10   7.370000e+10       7.57E+10       7.80E+10   \n",
       "1   2.473162e+04   2.509002e+04   2.559371e+04       26326.26       27160.86   \n",
       "2   2.954273e+03   2.957420e+03   2.987545e+03       3072.504       3178.417   \n",
       "\n",
       "   2018 [YR2018]  \n",
       "0       8.12E+10  \n",
       "1       28333.68  \n",
       "2       3312.927  \n",
       "\n",
       "[3 rows x 28 columns]"
      ]
     },
     "execution_count": 244,
     "metadata": {},
     "output_type": "execute_result"
    }
   ],
   "source": [
    "accountsData.head(3)"
   ]
  },
  {
   "cell_type": "code",
   "execution_count": 245,
   "id": "a89694af",
   "metadata": {},
   "outputs": [
    {
     "data": {
      "text/html": [
       "<div>\n",
       "<style scoped>\n",
       "    .dataframe tbody tr th:only-of-type {\n",
       "        vertical-align: middle;\n",
       "    }\n",
       "\n",
       "    .dataframe tbody tr th {\n",
       "        vertical-align: top;\n",
       "    }\n",
       "\n",
       "    .dataframe thead th {\n",
       "        text-align: right;\n",
       "    }\n",
       "</style>\n",
       "<table border=\"1\" class=\"dataframe\">\n",
       "  <thead>\n",
       "    <tr style=\"text-align: right;\">\n",
       "      <th></th>\n",
       "      <th>Code</th>\n",
       "      <th>Short Name</th>\n",
       "      <th>Table Name</th>\n",
       "      <th>Long Name</th>\n",
       "      <th>Currency Unit</th>\n",
       "    </tr>\n",
       "  </thead>\n",
       "  <tbody>\n",
       "    <tr>\n",
       "      <th>0</th>\n",
       "      <td>ALB</td>\n",
       "      <td>Albania</td>\n",
       "      <td>Albania</td>\n",
       "      <td>Republic of Albania</td>\n",
       "      <td>Albanian lek</td>\n",
       "    </tr>\n",
       "    <tr>\n",
       "      <th>1</th>\n",
       "      <td>ARG</td>\n",
       "      <td>Argentina</td>\n",
       "      <td>Argentina</td>\n",
       "      <td>Argentine Republic</td>\n",
       "      <td>Argentine peso</td>\n",
       "    </tr>\n",
       "  </tbody>\n",
       "</table>\n",
       "</div>"
      ],
      "text/plain": [
       "  Code Short Name Table Name            Long Name   Currency Unit\n",
       "0  ALB    Albania    Albania  Republic of Albania    Albanian lek\n",
       "1  ARG  Argentina  Argentina   Argentine Republic  Argentine peso"
      ]
     },
     "execution_count": 245,
     "metadata": {},
     "output_type": "execute_result"
    }
   ],
   "source": [
    "df1.head(2)"
   ]
  },
  {
   "cell_type": "code",
   "execution_count": 246,
   "id": "b41363f1",
   "metadata": {},
   "outputs": [
    {
     "data": {
      "text/plain": [
       "Index(['Country Name', 'Country Code', 'Series Name', 'Series Code',\n",
       "       '1995 [YR1995]', '1996 [YR1996]', '1997 [YR1997]', '1998 [YR1998]',\n",
       "       '1999 [YR1999]', '2000 [YR2000]', '2001 [YR2001]', '2002 [YR2002]',\n",
       "       '2003 [YR2003]', '2004 [YR2004]', '2005 [YR2005]', '2006 [YR2006]',\n",
       "       '2007 [YR2007]', '2008 [YR2008]', '2009 [YR2009]', '2010 [YR2010]',\n",
       "       '2011 [YR2011]', '2012 [YR2012]', '2013 [YR2013]', '2014 [YR2014]',\n",
       "       '2015 [YR2015]', '2016 [YR2016]', '2017 [YR2017]', '2018 [YR2018]'],\n",
       "      dtype='object')"
      ]
     },
     "execution_count": 246,
     "metadata": {},
     "output_type": "execute_result"
    }
   ],
   "source": [
    "accountsData.columns"
   ]
  },
  {
   "cell_type": "code",
   "execution_count": 247,
   "id": "8fad8f7d",
   "metadata": {},
   "outputs": [],
   "source": [
    "df2 = accountsData[['Country Name','Country Code','Series Name','1995 [YR1995]','2005 [YR2005]']]\n"
   ]
  },
  {
   "cell_type": "code",
   "execution_count": 248,
   "id": "c263f2d9",
   "metadata": {},
   "outputs": [
    {
     "data": {
      "text/html": [
       "<div>\n",
       "<style scoped>\n",
       "    .dataframe tbody tr th:only-of-type {\n",
       "        vertical-align: middle;\n",
       "    }\n",
       "\n",
       "    .dataframe tbody tr th {\n",
       "        vertical-align: top;\n",
       "    }\n",
       "\n",
       "    .dataframe thead th {\n",
       "        text-align: right;\n",
       "    }\n",
       "</style>\n",
       "<table border=\"1\" class=\"dataframe\">\n",
       "  <thead>\n",
       "    <tr style=\"text-align: right;\">\n",
       "      <th></th>\n",
       "      <th>Country Name</th>\n",
       "      <th>Country Code</th>\n",
       "      <th>Series Name</th>\n",
       "      <th>1995 [YR1995]</th>\n",
       "      <th>2005 [YR2005]</th>\n",
       "    </tr>\n",
       "  </thead>\n",
       "  <tbody>\n",
       "    <tr>\n",
       "      <th>0</th>\n",
       "      <td>Albania</td>\n",
       "      <td>ALB</td>\n",
       "      <td>Human capital (constant 2018 US$)</td>\n",
       "      <td>4.49E+10</td>\n",
       "      <td>5.440000e+10</td>\n",
       "    </tr>\n",
       "    <tr>\n",
       "      <th>1</th>\n",
       "      <td>Albania</td>\n",
       "      <td>ALB</td>\n",
       "      <td>Human capital per capita (constant 2018 US$)</td>\n",
       "      <td>14072.79</td>\n",
       "      <td>1.807230e+04</td>\n",
       "    </tr>\n",
       "    <tr>\n",
       "      <th>2</th>\n",
       "      <td>Albania</td>\n",
       "      <td>ALB</td>\n",
       "      <td>Human capital per capita, employed female (con...</td>\n",
       "      <td>3468.858</td>\n",
       "      <td>2.222115e+03</td>\n",
       "    </tr>\n",
       "    <tr>\n",
       "      <th>3</th>\n",
       "      <td>Albania</td>\n",
       "      <td>ALB</td>\n",
       "      <td>Human capital per capita, employed male (const...</td>\n",
       "      <td>6507.931</td>\n",
       "      <td>1.168935e+04</td>\n",
       "    </tr>\n",
       "    <tr>\n",
       "      <th>4</th>\n",
       "      <td>Albania</td>\n",
       "      <td>ALB</td>\n",
       "      <td>Human capital per capita, female (constant 201...</td>\n",
       "      <td>4893.006</td>\n",
       "      <td>2.886736e+03</td>\n",
       "    </tr>\n",
       "  </tbody>\n",
       "</table>\n",
       "</div>"
      ],
      "text/plain": [
       "  Country Name Country Code  \\\n",
       "0      Albania          ALB   \n",
       "1      Albania          ALB   \n",
       "2      Albania          ALB   \n",
       "3      Albania          ALB   \n",
       "4      Albania          ALB   \n",
       "\n",
       "                                         Series Name 1995 [YR1995]  \\\n",
       "0                  Human capital (constant 2018 US$)      4.49E+10   \n",
       "1       Human capital per capita (constant 2018 US$)      14072.79   \n",
       "2  Human capital per capita, employed female (con...      3468.858   \n",
       "3  Human capital per capita, employed male (const...      6507.931   \n",
       "4  Human capital per capita, female (constant 201...      4893.006   \n",
       "\n",
       "   2005 [YR2005]  \n",
       "0   5.440000e+10  \n",
       "1   1.807230e+04  \n",
       "2   2.222115e+03  \n",
       "3   1.168935e+04  \n",
       "4   2.886736e+03  "
      ]
     },
     "execution_count": 248,
     "metadata": {},
     "output_type": "execute_result"
    }
   ],
   "source": [
    "df2.head()"
   ]
  },
  {
   "cell_type": "code",
   "execution_count": 249,
   "id": "889c3b29",
   "metadata": {},
   "outputs": [],
   "source": [
    "series = pd.read_csv('Wealth-AccountSeries.csv')"
   ]
  },
  {
   "cell_type": "code",
   "execution_count": 250,
   "id": "df36e659",
   "metadata": {},
   "outputs": [
    {
     "data": {
      "text/html": [
       "<div>\n",
       "<style scoped>\n",
       "    .dataframe tbody tr th:only-of-type {\n",
       "        vertical-align: middle;\n",
       "    }\n",
       "\n",
       "    .dataframe tbody tr th {\n",
       "        vertical-align: top;\n",
       "    }\n",
       "\n",
       "    .dataframe thead th {\n",
       "        text-align: right;\n",
       "    }\n",
       "</style>\n",
       "<table border=\"1\" class=\"dataframe\">\n",
       "  <thead>\n",
       "    <tr style=\"text-align: right;\">\n",
       "      <th></th>\n",
       "      <th>Code</th>\n",
       "      <th>Indicator Name</th>\n",
       "      <th>Long definition</th>\n",
       "      <th>Source</th>\n",
       "      <th>Topic</th>\n",
       "      <th>Unit of measure</th>\n",
       "      <th>Periodicity</th>\n",
       "      <th>Reference period</th>\n",
       "      <th>Statistical concept and methodology</th>\n",
       "      <th>Previous Indicator Code</th>\n",
       "      <th>Previous Indicator Name</th>\n",
       "    </tr>\n",
       "  </thead>\n",
       "  <tbody>\n",
       "    <tr>\n",
       "      <th>0</th>\n",
       "      <td>NW.HCA.TO</td>\n",
       "      <td>Human capital (constant 2018 US$)</td>\n",
       "      <td>Human capital is computed as the present value...</td>\n",
       "      <td>World Bank. 2021. The Changing Wealth of Natio...</td>\n",
       "      <td>Human capital</td>\n",
       "      <td>Constant 2018 US$</td>\n",
       "      <td>Annual</td>\n",
       "      <td>1995-2018</td>\n",
       "      <td>Total wealth is calculated by summing up estim...</td>\n",
       "      <td>NaN</td>\n",
       "      <td>NaN</td>\n",
       "    </tr>\n",
       "    <tr>\n",
       "      <th>1</th>\n",
       "      <td>NW.HCA.PC</td>\n",
       "      <td>Human capital per capita (constant 2018 US$)</td>\n",
       "      <td>Human capital is computed as the present value...</td>\n",
       "      <td>World Bank. 2021. The Changing Wealth of Natio...</td>\n",
       "      <td>Human capital</td>\n",
       "      <td>Constant 2018 US$</td>\n",
       "      <td>Annual</td>\n",
       "      <td>1995-2018</td>\n",
       "      <td>Total wealth is calculated by summing up estim...</td>\n",
       "      <td>NaN</td>\n",
       "      <td>NaN</td>\n",
       "    </tr>\n",
       "    <tr>\n",
       "      <th>2</th>\n",
       "      <td>NW.HCA.FEMP.PC</td>\n",
       "      <td>Human capital per capita, employed female (con...</td>\n",
       "      <td>Human capital is computed as the present value...</td>\n",
       "      <td>World Bank. 2021. The Changing Wealth of Natio...</td>\n",
       "      <td>Human capital</td>\n",
       "      <td>Constant 2018 US$</td>\n",
       "      <td>Annual</td>\n",
       "      <td>1995-2018</td>\n",
       "      <td>Total wealth is calculated by summing up estim...</td>\n",
       "      <td>NaN</td>\n",
       "      <td>NaN</td>\n",
       "    </tr>\n",
       "  </tbody>\n",
       "</table>\n",
       "</div>"
      ],
      "text/plain": [
       "             Code                                     Indicator Name  \\\n",
       "0       NW.HCA.TO                  Human capital (constant 2018 US$)   \n",
       "1       NW.HCA.PC       Human capital per capita (constant 2018 US$)   \n",
       "2  NW.HCA.FEMP.PC  Human capital per capita, employed female (con...   \n",
       "\n",
       "                                     Long definition  \\\n",
       "0  Human capital is computed as the present value...   \n",
       "1  Human capital is computed as the present value...   \n",
       "2  Human capital is computed as the present value...   \n",
       "\n",
       "                                              Source          Topic  \\\n",
       "0  World Bank. 2021. The Changing Wealth of Natio...  Human capital   \n",
       "1  World Bank. 2021. The Changing Wealth of Natio...  Human capital   \n",
       "2  World Bank. 2021. The Changing Wealth of Natio...  Human capital   \n",
       "\n",
       "     Unit of measure Periodicity Reference period  \\\n",
       "0  Constant 2018 US$      Annual        1995-2018   \n",
       "1  Constant 2018 US$      Annual        1995-2018   \n",
       "2  Constant 2018 US$      Annual        1995-2018   \n",
       "\n",
       "                 Statistical concept and methodology Previous Indicator Code  \\\n",
       "0  Total wealth is calculated by summing up estim...                     NaN   \n",
       "1  Total wealth is calculated by summing up estim...                     NaN   \n",
       "2  Total wealth is calculated by summing up estim...                     NaN   \n",
       "\n",
       "  Previous Indicator Name  \n",
       "0                     NaN  \n",
       "1                     NaN  \n",
       "2                     NaN  "
      ]
     },
     "execution_count": 250,
     "metadata": {},
     "output_type": "execute_result"
    }
   ],
   "source": [
    "series.head(3)"
   ]
  },
  {
   "cell_type": "code",
   "execution_count": 251,
   "id": "4127f5c5",
   "metadata": {},
   "outputs": [],
   "source": [
    "df3 = series[['Code', 'Topic','Indicator Name','Periodicity']]"
   ]
  },
  {
   "cell_type": "code",
   "execution_count": 252,
   "id": "ede5c808",
   "metadata": {},
   "outputs": [
    {
     "data": {
      "text/html": [
       "<div>\n",
       "<style scoped>\n",
       "    .dataframe tbody tr th:only-of-type {\n",
       "        vertical-align: middle;\n",
       "    }\n",
       "\n",
       "    .dataframe tbody tr th {\n",
       "        vertical-align: top;\n",
       "    }\n",
       "\n",
       "    .dataframe thead th {\n",
       "        text-align: right;\n",
       "    }\n",
       "</style>\n",
       "<table border=\"1\" class=\"dataframe\">\n",
       "  <thead>\n",
       "    <tr style=\"text-align: right;\">\n",
       "      <th></th>\n",
       "      <th>Code</th>\n",
       "      <th>Topic</th>\n",
       "      <th>Indicator Name</th>\n",
       "      <th>Periodicity</th>\n",
       "    </tr>\n",
       "  </thead>\n",
       "  <tbody>\n",
       "    <tr>\n",
       "      <th>0</th>\n",
       "      <td>NW.HCA.TO</td>\n",
       "      <td>Human capital</td>\n",
       "      <td>Human capital (constant 2018 US$)</td>\n",
       "      <td>Annual</td>\n",
       "    </tr>\n",
       "    <tr>\n",
       "      <th>1</th>\n",
       "      <td>NW.HCA.PC</td>\n",
       "      <td>Human capital</td>\n",
       "      <td>Human capital per capita (constant 2018 US$)</td>\n",
       "      <td>Annual</td>\n",
       "    </tr>\n",
       "    <tr>\n",
       "      <th>2</th>\n",
       "      <td>NW.HCA.FEMP.PC</td>\n",
       "      <td>Human capital</td>\n",
       "      <td>Human capital per capita, employed female (con...</td>\n",
       "      <td>Annual</td>\n",
       "    </tr>\n",
       "    <tr>\n",
       "      <th>3</th>\n",
       "      <td>NW.HCA.MEMP.PC</td>\n",
       "      <td>Human capital</td>\n",
       "      <td>Human capital per capita, employed male (const...</td>\n",
       "      <td>Annual</td>\n",
       "    </tr>\n",
       "    <tr>\n",
       "      <th>4</th>\n",
       "      <td>NW.HCA.FEMA.PC</td>\n",
       "      <td>Human capital</td>\n",
       "      <td>Human capital per capita, female (constant 201...</td>\n",
       "      <td>Annual</td>\n",
       "    </tr>\n",
       "  </tbody>\n",
       "</table>\n",
       "</div>"
      ],
      "text/plain": [
       "             Code          Topic  \\\n",
       "0       NW.HCA.TO  Human capital   \n",
       "1       NW.HCA.PC  Human capital   \n",
       "2  NW.HCA.FEMP.PC  Human capital   \n",
       "3  NW.HCA.MEMP.PC  Human capital   \n",
       "4  NW.HCA.FEMA.PC  Human capital   \n",
       "\n",
       "                                      Indicator Name Periodicity  \n",
       "0                  Human capital (constant 2018 US$)      Annual  \n",
       "1       Human capital per capita (constant 2018 US$)      Annual  \n",
       "2  Human capital per capita, employed female (con...      Annual  \n",
       "3  Human capital per capita, employed male (const...      Annual  \n",
       "4  Human capital per capita, female (constant 201...      Annual  "
      ]
     },
     "execution_count": 252,
     "metadata": {},
     "output_type": "execute_result"
    }
   ],
   "source": [
    "df3.head()"
   ]
  },
  {
   "cell_type": "code",
   "execution_count": 253,
   "id": "cd394a9b",
   "metadata": {},
   "outputs": [],
   "source": [
    "cur, conn = create_database()"
   ]
  },
  {
   "cell_type": "code",
   "execution_count": 254,
   "id": "6511a944",
   "metadata": {},
   "outputs": [],
   "source": [
    "songplay_table_create = (\"\"\" CREATE TABLE IF NOT EXISTS accountscountry(\n",
    "country_code VARCHAR PRIMARY KEY,\n",
    "short_name VARCHAR,\n",
    "table_name VARCHAR,\n",
    "long_name VARCHAR,\n",
    "currency_unit VARCHAR)\"\"\")"
   ]
  },
  {
   "cell_type": "code",
   "execution_count": 255,
   "id": "9798d113",
   "metadata": {},
   "outputs": [],
   "source": [
    "cur.execute(songplay_table_create)\n",
    "conn.commit()"
   ]
  },
  {
   "cell_type": "code",
   "execution_count": 256,
   "id": "0c88b655",
   "metadata": {},
   "outputs": [],
   "source": [
    "songplay_table_create = (\"\"\" CREATE TABLE IF NOT EXISTS accountsdata1(\n",
    "country_name VARCHAR,\n",
    "country_code VARCHAR,\n",
    "indicator_name VARCHAR,\n",
    "year_1999 VARCHAR,\n",
    "year_2015 numeric)\"\"\")"
   ]
  },
  {
   "cell_type": "code",
   "execution_count": 257,
   "id": "24f38bc8",
   "metadata": {},
   "outputs": [],
   "source": [
    "cur.execute(songplay_table_create)\n",
    "conn.commit()"
   ]
  },
  {
   "cell_type": "code",
   "execution_count": 258,
   "id": "7113e64d",
   "metadata": {},
   "outputs": [],
   "source": [
    "songplay_table_create = (\"\"\" CREATE TABLE IF NOT EXISTS accountseries(\n",
    "series_code VARCHAR,\n",
    "topic VARCHAR,\n",
    "periodicity VARCHAR,\n",
    "indicator_name VARCHAR)\"\"\")"
   ]
  },
  {
   "cell_type": "code",
   "execution_count": 259,
   "id": "9dc7c90c",
   "metadata": {},
   "outputs": [],
   "source": [
    "conn.rollback()\n"
   ]
  },
  {
   "cell_type": "code",
   "execution_count": 260,
   "id": "586d3744",
   "metadata": {},
   "outputs": [],
   "source": [
    "cur.execute(songplay_table_create)\n",
    "conn.commit()"
   ]
  },
  {
   "cell_type": "code",
   "execution_count": 261,
   "id": "28611431",
   "metadata": {},
   "outputs": [],
   "source": [
    "accountscountry_insert = (\"\"\"INSERT INTO accountscountry(\n",
    "country_code,\n",
    "short_name,\n",
    "table_name,\n",
    "long_name,\n",
    "currency_unit)\n",
    "VALUES (%s,%s,%s,%s,%s)\n",
    "ON CONFLICT (country_code) DO NOTHING;\n",
    "\"\"\")"
   ]
  },
  {
   "cell_type": "code",
   "execution_count": 262,
   "id": "94d8751f",
   "metadata": {
    "scrolled": true
   },
   "outputs": [],
   "source": [
    "df1 = df1.fillna('Unknown')"
   ]
  },
  {
   "cell_type": "code",
   "execution_count": 263,
   "id": "c3bdfc10",
   "metadata": {},
   "outputs": [],
   "source": [
    "cur.execute(\"DELETE FROM accountscountry;\")\n",
    "conn.commit()\n"
   ]
  },
  {
   "cell_type": "code",
   "execution_count": 264,
   "id": "57c92440",
   "metadata": {},
   "outputs": [],
   "source": [
    "for i, row in df1.iterrows():\n",
    "    cur.execute(accountscountry_insert,list(row))"
   ]
  },
  {
   "cell_type": "code",
   "execution_count": 265,
   "id": "3abd84e8",
   "metadata": {},
   "outputs": [],
   "source": [
    "conn.commit()"
   ]
  },
  {
   "cell_type": "code",
   "execution_count": 266,
   "id": "d3fe14f4",
   "metadata": {},
   "outputs": [
    {
     "data": {
      "text/plain": [
       "Country Name      object\n",
       "Country Code      object\n",
       "Series Name       object\n",
       "1995 [YR1995]     object\n",
       "2005 [YR2005]    float64\n",
       "dtype: object"
      ]
     },
     "execution_count": 266,
     "metadata": {},
     "output_type": "execute_result"
    }
   ],
   "source": [
    "df2.dtypes"
   ]
  },
  {
   "cell_type": "code",
   "execution_count": 267,
   "id": "795f8a0d",
   "metadata": {},
   "outputs": [],
   "source": [
    "accountsdata_insert = (\"\"\"INSERT INTO accountsdata1(\n",
    "country_name,\n",
    "country_code,\n",
    "indicator_name,\n",
    "year_1999,\n",
    "year_2015)\n",
    "VALUES (%s,%s,%s,%s,%s)\n",
    "\"\"\")"
   ]
  },
  {
   "cell_type": "code",
   "execution_count": 268,
   "id": "9dd59f9f",
   "metadata": {},
   "outputs": [],
   "source": [
    "for i, row in df2.iterrows():\n",
    "    cur.execute(accountsdata_insert,list(row))"
   ]
  },
  {
   "cell_type": "code",
   "execution_count": 269,
   "id": "65f82256",
   "metadata": {},
   "outputs": [],
   "source": [
    "conn.commit()"
   ]
  }
 ],
 "metadata": {
  "kernelspec": {
   "display_name": "Python 3 (ipykernel)",
   "language": "python",
   "name": "python3"
  },
  "language_info": {
   "codemirror_mode": {
    "name": "ipython",
    "version": 3
   },
   "file_extension": ".py",
   "mimetype": "text/x-python",
   "name": "python",
   "nbconvert_exporter": "python",
   "pygments_lexer": "ipython3",
   "version": "3.9.13"
  }
 },
 "nbformat": 4,
 "nbformat_minor": 5
}
